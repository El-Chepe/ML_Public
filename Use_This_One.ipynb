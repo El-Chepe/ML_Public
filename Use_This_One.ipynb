{
 "cells": [
  {
   "cell_type": "code",
   "execution_count": 9,
   "metadata": {},
   "outputs": [],
   "source": [
    "# Read the file into Python\n",
    "import json\n",
    "\n",
    "data = []\n",
    "with open('../businessnull.json') as f:\n",
    "    for line in f:\n",
    "        data.append(json.loads(line))"
   ]
  },
  {
   "cell_type": "code",
   "execution_count": 10,
   "metadata": {},
   "outputs": [],
   "source": [
    "# Filter for food vendors inside NV\n",
    "datares = []\n",
    "for line in range(0,len(data)):\n",
    "    try: \n",
    "        if data[line]['state'] == 'NV':\n",
    "            if ('Food') in data[line]['categories'] or ('Restaurant') in data[line]['categories']:\n",
    "                datares.append(data[line])\n",
    "    except:\n",
    "        pass"
   ]
  },
  {
   "cell_type": "code",
   "execution_count": 11,
   "metadata": {},
   "outputs": [],
   "source": [
    "#Create a list of the attributes\n",
    "resattributes = []\n",
    "for i in range(0,len(datares)):\n",
    "    try:\n",
    "        resattributes.append(list(datares[i]['attributes'].keys()))\n",
    "    except:\n",
    "        pass"
   ]
  },
  {
   "cell_type": "code",
   "execution_count": 12,
   "metadata": {},
   "outputs": [],
   "source": [
    "#Create a list of the days\n",
    "reshours = []\n",
    "for i in range(0,len(datares)):\n",
    "    try:\n",
    "        reshours.append(list(datares[i]['hours'].keys()))\n",
    "    except:\n",
    "        pass"
   ]
  },
  {
   "cell_type": "code",
   "execution_count": 13,
   "metadata": {},
   "outputs": [],
   "source": [
    "#Drop repeated days and sort them\n",
    "nr_hours = []\n",
    "for i in range(0,len(reshours)):\n",
    "    for each in range(0,len(reshours[i])):\n",
    "        nr_hours.append(reshours[i][each])\n",
    "days = set(nr_hours)\n",
    "m = ['Monday', 'Tuesday', 'Wednesday', 'Thursday', 'Friday', 'Saturday', 'Sunday']\n",
    "days = sorted(days, key=m.index)\n",
    "\n",
    "#Drop repeated attributes\n",
    "nr_atts = []\n",
    "for i in range(0,len(resattributes)):\n",
    "    for each in range(0,len(resattributes[i])):\n",
    "        nr_atts.append(resattributes[i][each])\n",
    "atts = set(nr_atts)"
   ]
  },
  {
   "cell_type": "code",
   "execution_count": 139,
   "metadata": {},
   "outputs": [],
   "source": [
    "#Now, reconstruct the table\n",
    "\n",
    "keys = list(datares[0].keys())\n",
    "\n",
    "#datares[0]['business_id']"
   ]
  },
  {
   "cell_type": "code",
   "execution_count": 14,
   "metadata": {},
   "outputs": [],
   "source": [
    "#Find business IDs\n",
    "\n",
    "IDS = []\n",
    "\n",
    "for i in range(0,len(datares)):\n",
    "    IDS.append(datares[i]['business_id'])"
   ]
  },
  {
   "cell_type": "code",
   "execution_count": 16,
   "metadata": {},
   "outputs": [],
   "source": [
    "# Read the comments file into Python\n",
    "import json\n",
    "revs = []\n",
    "with open('../review.json') as f:\n",
    "    for line in f:\n",
    "        revs.append(json.loads(line))"
   ]
  },
  {
   "cell_type": "code",
   "execution_count": null,
   "metadata": {},
   "outputs": [],
   "source": [
    "revsNV = []\n",
    "for line in range(0,len(revs)):\n",
    "    try: \n",
    "        if revs[line]['business_id'] in IDS:\n",
    "            revsNV.append(revs[line])\n",
    "    except:\n",
    "        pass"
   ]
  },
  {
   "cell_type": "code",
   "execution_count": 7,
   "metadata": {},
   "outputs": [],
   "source": [
    "# Use with caution\n",
    "import csv\n",
    "\n",
    "yelp_data = open('filtered_reviews.csv', 'w')\n",
    "\n",
    "csvwriter = csv.writer(yelp_data)\n",
    "\n",
    "count = -1\n",
    "\n",
    "for each in range(0,len(IDS)):\n",
    "\n",
    "      if count == -1:\n",
    "\n",
    "             header = 'business_id'\n",
    "\n",
    "             csvwriter.writerow(header)\n",
    "\n",
    "             count += 1\n",
    "\n",
    "      csvwriter.writerow(IDS[each])\n",
    "\n",
    "yelp_data.close()"
   ]
  },
  {
   "cell_type": "code",
   "execution_count": null,
   "metadata": {},
   "outputs": [],
   "source": []
  }
 ],
 "metadata": {
  "kernelspec": {
   "display_name": "coms007",
   "language": "python",
   "name": "coms007"
  },
  "language_info": {
   "codemirror_mode": {
    "name": "ipython",
    "version": 3
   },
   "file_extension": ".py",
   "mimetype": "text/x-python",
   "name": "python",
   "nbconvert_exporter": "python",
   "pygments_lexer": "ipython3",
   "version": "3.6.5"
  }
 },
 "nbformat": 4,
 "nbformat_minor": 2
}
